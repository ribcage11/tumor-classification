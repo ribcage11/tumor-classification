{
 "cells": [
  {
   "metadata": {
    "ExecuteTime": {
     "end_time": "2024-06-02T21:25:07.736857Z",
     "start_time": "2024-06-02T21:25:07.719436Z"
    }
   },
   "cell_type": "code",
   "source": [
    "import matplotlib.pyplot as plt\n",
    "import numpy as np\n",
    "\n",
    "import pywt\n",
    "import pywt.data\n",
    "\n",
    "# Load image\n",
    "original = pywt.data.camera()\n",
    "\n",
    "# Wavelet transform of image, and plot approximation and details\n",
    "titles = ['Approximation', ' Horizontal detail',\n",
    "          'Vertical detail', 'Diagonal detail']\n",
    "coeffs2 = pywt.dwt2(original, 'bior1.3')\n",
    "plt.imshow(original, cmap=plt.cm.gray)\n",
    "\n",
    "LL, (LH, HL, HH) = coeffs2\n",
    "fig = plt.figure()\n",
    "for i, a in enumerate([LL, LH, HL, HH]):\n",
    "    ax = fig.add_subplot(2, 2, i + 1)\n",
    "    ax.imshow(a, interpolation=\"nearest\", cmap=plt.cm.gray)\n",
    "    ax.set_title(titles[i], fontsize=12)\n",
    "    ax.set_xticks([])\n",
    "    ax.set_yticks([])\n",
    "\n",
    "fig.suptitle(\"dwt2 coefficients\", fontsize=14)\n",
    "\n",
    "# Now reconstruct and plot the original image\n",
    "reconstructed = pywt.idwt2(coeffs2, 'bior1.3')\n",
    "fig = plt.figure()\n",
    "plt.imshow(reconstructed, interpolation=\"nearest\", cmap=plt.cm.gray)\n",
    "\n",
    "# Check that reconstructed image is close to the original\n",
    "np.testing.assert_allclose(original, reconstructed, atol=1e-13, rtol=1e-13)\n",
    "\n",
    "\n",
    "# Now do the same with dwtn/idwtn, to show the difference in their signatures\n",
    "\n",
    "coeffsn = pywt.dwtn(original, 'bior1.3')\n",
    "fig = plt.figure()\n",
    "for i, key in enumerate(['aa', 'ad', 'da', 'dd']):\n",
    "    ax = fig.add_subplot(2, 2, i + 1)\n",
    "    ax.imshow(coeffsn[key], interpolation=\"nearest\", cmap=plt.cm.gray)\n",
    "    ax.set_title(titles[i], fontsize=12)\n",
    "    ax.set_xticks([])\n",
    "    ax.set_yticks([])\n",
    "\n",
    "fig.suptitle(\"dwtn coefficients\", fontsize=14)\n",
    "\n",
    "# Now reconstruct and plot the original image\n",
    "reconstructed = pywt.idwtn(coeffsn, 'bior1.3')\n",
    "fig = plt.figure()\n",
    "plt.imshow(reconstructed, interpolation=\"nearest\", cmap=plt.cm.gray)\n",
    "\n",
    "# Check that reconstructed image is close to the original\n",
    "np.testing.assert_allclose(original, reconstructed, atol=1e-13, rtol=1e-13)\n",
    "\n",
    "\n",
    "plt.show()"
   ],
   "id": "b564b60eab7ea12a",
   "outputs": [],
   "execution_count": 3
  },
  {
   "metadata": {},
   "cell_type": "code",
   "outputs": [],
   "execution_count": null,
   "source": "",
   "id": "6279661867fd3397"
  }
 ],
 "metadata": {
  "kernelspec": {
   "display_name": "Python 3",
   "language": "python",
   "name": "python3"
  },
  "language_info": {
   "codemirror_mode": {
    "name": "ipython",
    "version": 2
   },
   "file_extension": ".py",
   "mimetype": "text/x-python",
   "name": "python",
   "nbconvert_exporter": "python",
   "pygments_lexer": "ipython2",
   "version": "2.7.6"
  }
 },
 "nbformat": 4,
 "nbformat_minor": 5
}
